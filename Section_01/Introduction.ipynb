{
  "nbformat": 4,
  "nbformat_minor": 0,
  "metadata": {
    "colab": {
      "provenance": []
    },
    "kernelspec": {
      "name": "python3",
      "display_name": "Python 3"
    },
    "language_info": {
      "name": "python"
    }
  },
  "cells": [
    {
      "cell_type": "markdown",
      "source": [
        "# Section 01: Introduction\n",
        "\n",
        "<a rel=\"license\" href=\"https://creativecommons.org/licenses/by-nc-sa/4.0/legalcode.txt\"><img alt=\"Attribution-NonCommercial-ShareAlike 4.0 International\" src=\"https://mirrors.creativecommons.org/presskit/buttons/88x31/svg/by-nc-sa.eu.svg\" title=\"This work is licensed under a Creative Commons Attribution-NonCommercial-ShareAlike 4.0 International Public License\"/></a>"
      ],
      "metadata": {
        "id": "6pCHZqKhvoZ9"
      }
    },
    {
      "cell_type": "markdown",
      "source": [
        "## Content\n",
        "\n",
        "- [Overview](#overview)\n",
        "    - [Machine Learning: A New Paradigm in Population Genetics](#machine-learning)\n",
        "    - [Jupyter Notebook](#jupyter-notebook)\n",
        "- [Resources](#resources)\n",
        "- [Python Programming](#python-programming)\n",
        "    - [Variables](#variables)\n",
        "        - [Task 1](#task1)\n",
        "    - [Built-in Data Types](#built-in-data-types)\n",
        "        - [`int`](#int)\n",
        "        - [`float`](#float)\n",
        "        - [`bool`](#bool)\n",
        "        - [`str`](#str)\n",
        "        - [`list`](#li)\n",
        "        - [`dict`](#dict)\n",
        "    - [Commonly Used Statements](#commonly-used-statements)\n",
        "        - [`if`](#if)\n",
        "        - [`for`](#for)\n",
        "        - [`while`](#while)\n",
        "        - [Define a Function](#def)\n",
        "        - [Import a Package](#import)\n",
        "    - [File Inputs and Outputs](#io)\n",
        "    - [Task 2: Comprehensive Application](#task2)\n",
        "- [Summary](#summary)"
      ],
      "metadata": {
        "id": "2tDkLFP-ggd9"
      }
    },
    {
      "cell_type": "markdown",
      "source": [
        "<a name=\"overview\"></a>\n",
        "## Overview"
      ],
      "metadata": {
        "id": "Zwhgw7jfzysg"
      }
    },
    {
      "cell_type": "markdown",
      "source": [
        "<a name=\"jupyter-notebook\"></a>\n",
        "### Machine Learning: A New Paradigm in Population Genetics\n",
        "\n",
        "Population genetics is a discipline studying how evolution shapes genetic variation. Traditionally, studying population genetics has involved either experimental methods or theoretical approaches, such as statistical inference.\n",
        "\n",
        "Recent advances in machine learning, especially deep learning, have introduced a new paradigm for studying population genetics. This is because machine learning excels at solving complex problems with large-scale data, similar to the challenges encountered in the genomic era of population genetics.\n",
        "\n",
        "<p align=\"center\">\n",
        "    <img alt=\"pmgl\" src=\"https://github.com/xin-huang/pgml/blob/main/Section_01/pgml.png?raw=true\" width=480>\n",
        "</p>\n",
        "\n",
        "<p align=\"center\">\n",
        "    <strong>A figure created by <a href=\"https://openai.com/research/dall-e\">DALL·E</a> for machine learning in population genetics</strong>\n",
        "</p>\n",
        "\n",
        "In this course, we will introduce basic knowledge of machine learning by implementing its applications to address practical problems from recent publications in population genetics. We will divide our course into two parts, based on machine learning paradigms:\n",
        "\n",
        "- **Supervised Learning**: This is the process of training a machine learning model on a dataset that contains input-output pairs, where the model learns to predict the output from the input. It is ideal for tasks like classification and regression. In this part, we will apply supervised learning algorithms, such as logistic regression and decision trees, to detect ghost introgressed fragments in genomes.\n",
        "\n",
        "- **Unsupervised Learning**: Involves training a model on data without pre-defined labels, allowing the model to identify patterns or structures on its own. It is used for clustering, dimensionality reduction, and more. Here, we will explore unsupervised learning algorithms, like dimensionality reduction techniques and generative models, to uncover population structure or simulate artificial genomes.\n",
        "\n",
        "We will not cover **reinforcement learning**, which involves training a model to make decisions based on rewards from interactions with an environment, due to its current limited application in population genetics.\n",
        "\n",
        "Although the focus is on applying machine learning to population genetics problems, due to the versatility and power of machine learning, we encourage you to think about how these techniques can be applied within your own fields of study."
      ],
      "metadata": {
        "id": "VGIEmwBThK7t"
      }
    },
    {
      "cell_type": "markdown",
      "source": [
        "<a name=\"jupyter-notebook\"></a>\n",
        "### Jupyter Notebook <img align=\"right\" alt=\"jupyter\" src=\"https://jupyter.org/assets/share.png\" width=72>"
      ],
      "metadata": {
        "id": "CkKQMWJAjK92"
      }
    },
    {
      "cell_type": "markdown",
      "source": [
        "In this course, all materials are implemented using [Jupyter Notebook](https://jupyter.org/), which is an interactive, web-based platform that allows for the integration of code, plots, and text into a single document, known as a Jupyter notebook. Jupyter Notebook supports multiple programming languages, such as Python, R, and Julia, which are especially popular for data analysis.\n",
        "\n",
        "A Jupyter notebook consists of a series of cells. There are primarily two types of cells: text cells, which use [Markdown syntax](https://www.markdownguide.org/basic-syntax/) for formatting, and code cells, which contain executable code. The code within these cells can be run to display its results directly beneath the cell, allowing for interactive computational narratives.\n",
        "\n",
        "To run a code cell in Google Colab, we can click the play icon at the left side of the code cell or by pressing `Ctrl + Enter`."
      ],
      "metadata": {
        "id": "8UVgM34mcwzq"
      }
    },
    {
      "cell_type": "code",
      "source": [
        "# This is a code cell.\n",
        "print(\"Hello World!\")"
      ],
      "metadata": {
        "id": "plxmFbUgexKc"
      },
      "execution_count": null,
      "outputs": []
    },
    {
      "cell_type": "markdown",
      "source": [
        "Here, the symbol `#` indicates that the statement is a comment, which is not executed. The `print()` function is a built-in function from Python, which prints the content within the parentheses to the screen.\n",
        "\n",
        "In this course, we will use Python and some common [Linux](https://en.wikipedia.org/wiki/Linux) shell commands for analysing population genetic problems with machine learning. To execute a shell command in a Jupyter Notebook code cell, you must prefix the command with an exclamation mark (`!`) before the command name:"
      ],
      "metadata": {
        "id": "L0rUwaW8g51U"
      }
    },
    {
      "cell_type": "code",
      "source": [
        "!cat /proc/version"
      ],
      "metadata": {
        "id": "LrJfeWh4MIhM"
      },
      "execution_count": null,
      "outputs": []
    },
    {
      "cell_type": "markdown",
      "source": [
        "Here, [cat](https://linux.die.net/man/1/cat) is a Linux command that can display the content of a file (e.g., /proc/<wbr>version)."
      ],
      "metadata": {
        "id": "5yQil_EtMoxt"
      }
    },
    {
      "cell_type": "markdown",
      "source": [
        "<a name=\"resources\"></a>\n",
        "## Resources"
      ],
      "metadata": {
        "id": "ADetInX9DyPf"
      }
    },
    {
      "cell_type": "markdown",
      "source": [
        "- [W3schools Python Tutorial](https://www.w3schools.com/python/)\n",
        "- [Python Language Reference](https://docs.python.org/3/reference/)\n",
        "- [Pattern Recognition and Machine Learning](https://www.microsoft.com/en-us/research/uploads/prod/2006/01/Bishop-Pattern-Recognition-and-Machine-Learning-2006.pdf)\n",
        "- [Deep Learning](https://www.deeplearningbook.org/)\n",
        "- [Population Genetics Notes](https://github.com/cooplab/popgen-notes)"
      ],
      "metadata": {
        "id": "N162-f1RhZD9"
      }
    },
    {
      "cell_type": "markdown",
      "source": [
        "<a name=\"python-programming\"></a>\n",
        "## Python Programming <wbr><img alt=\"python\" align=\"right\" src=\"https://upload.wikimedia.org/wikipedia/commons/thumb/c/c3/Python-logo-notext.svg/1869px-Python-logo-notext.svg.png\" width=32>"
      ],
      "metadata": {
        "id": "2mjYR6s_jOgW"
      }
    },
    {
      "cell_type": "markdown",
      "source": [
        "[Python](https://www.python.org/) is a widely-used programming language, favored in the fields of machine learning and bioinformatics. In our course, we will apply three prominent Python packages for implementing machine learning applications in population genetics:\n",
        "\n",
        "- [scikit-learn](https://scikit-learn.org/stable/) offers a wide array of algorithms for various machine learning tasks, including classification, regression, and clustering.\n",
        "- [PyTorch](https://pytorch.org/), developed by Meta, is a deep learning framework that is popular among academic researchers for its user-friendly interface.\n",
        "- [TensorFlow](https://www.tensorflow.org/), created by Google, is another deep learning framework designed for large-scale, real-world applications, often preferred in the industry.\n",
        "\n",
        "<p align=\"center\">\n",
        "    <img alt=\"scikit-learn\" src=\"https://upload.wikimedia.org/wikipedia/commons/thumb/0/05/Scikit_learn_logo_small.svg/2560px-Scikit_learn_logo_small.svg.png\" width=96>\n",
        "    <img alt=\"pytorch\" src=\"https://upload.wikimedia.org/wikipedia/commons/thumb/c/c6/PyTorch_logo_black.svg/1200px-PyTorch_logo_black.svg.png\" width=96>\n",
        "    <img alt=\"scikit-learn\" src=\"https://upload.wikimedia.org/wikipedia/commons/thumb/a/ab/TensorFlow_logo.svg/1200px-TensorFlow_logo.svg.png\" width=96>\n",
        "</p>\n",
        "\n",
        "Before diving into our machine learning implementation, we will start with the basics of Python programming. This foundational knowledge will allow us to progressively enhance our understanding of Python programming throughout the course."
      ],
      "metadata": {
        "id": "vk9mr8p0g5VV"
      }
    },
    {
      "cell_type": "markdown",
      "source": [
        "<a name=\"variables\"></a>\n",
        "### Variables"
      ],
      "metadata": {
        "id": "zD3zhhMMapO0"
      }
    },
    {
      "cell_type": "markdown",
      "source": [
        "In Python, creating a variable is straightforward, just assign a value to a name. For example, we can create a variable named `x` to store an integer value `1` using the following:"
      ],
      "metadata": {
        "id": "NnK5ovUWbiry"
      }
    },
    {
      "cell_type": "code",
      "source": [
        "x = 1\n",
        "print(x)"
      ],
      "metadata": {
        "id": "Outz7A_tbuNi"
      },
      "execution_count": null,
      "outputs": []
    },
    {
      "cell_type": "markdown",
      "source": [
        "<a name=\"task1\"></a>\n",
        "**Task 1:** Create a variable `y` that stores an integer value `200` and print out `y`."
      ],
      "metadata": {
        "id": "0961TT7Si5o0"
      }
    },
    {
      "cell_type": "code",
      "source": [
        "# Please implement your code here.\n"
      ],
      "metadata": {
        "id": "uaFshthajOpd"
      },
      "execution_count": null,
      "outputs": []
    },
    {
      "cell_type": "markdown",
      "source": [
        "<details>\n",
        "  <summary>\n",
        "    <font size=\"3\" color=\"darkgreen\">\n",
        "      <b>Click for hints</b>\n",
        "    </font>\n",
        "  </summary>\n",
        "\n",
        "  - During the course, we will ask you to perform some tasks to practice the knowledge we have learned. We encourage you to think of your solutions independently. However, if you are unsure how to complete a task, you can click on the cell containing hints and solutions located below the task. Note that the solution provided here may not be the only or the best solution; we encourage you to explore and find the most effective solution.\n",
        "  - <details>\n",
        "      <summary>\n",
        "        <font size=\"3\" color=\"darkblue\">\n",
        "          <b>Click for solutions</b>\n",
        "        </font>\n",
        "      </summary>\n",
        "\n",
        "      ```\n",
        "      y = 200\n",
        "      print(y)\n",
        "      ```\n",
        "  </details>\n",
        "</details>"
      ],
      "metadata": {
        "id": "toeu0H7Yq3Oy"
      }
    },
    {
      "cell_type": "markdown",
      "source": [
        "<a name=\"buit-in-data-types\"></a>\n",
        "### Built-in Data Types\n"
      ],
      "metadata": {
        "id": "AxPtFVplgNr9"
      }
    },
    {
      "cell_type": "markdown",
      "source": [
        "<a name=\"int\"></a>\n",
        "#### `int`\n",
        "\n",
        "There are several built-in [data types](https://www.w3schools.com/python/python_datatypes.asp) in Python. For example, when we assigned an integer to the variable `x`, Python automatically identified its data type as `int` because it can infer the data type from the assigned value. Consequently, there is no need to explicitly specify the data type of a variable upon its creation in Python. We can find out the data type of a variable by using the `type()` function:\n"
      ],
      "metadata": {
        "id": "Svkat-2CsVsT"
      }
    },
    {
      "cell_type": "code",
      "source": [
        "type(x)"
      ],
      "metadata": {
        "id": "6Z8AoRnmsbcC"
      },
      "execution_count": null,
      "outputs": []
    },
    {
      "cell_type": "markdown",
      "source": [
        "<a name=\"float\"></a>\n",
        "#### `float`\n",
        "\n",
        "`float` is another data type for numbers, which is used for representing real numbers with decimal points and suitable for various mathematical calculations that require precision beyond integers:"
      ],
      "metadata": {
        "id": "R2kC1TWSs1eD"
      }
    },
    {
      "cell_type": "code",
      "source": [
        "pi = 3.1415926535897932384626\n",
        "type(pi)"
      ],
      "metadata": {
        "id": "QLquZu1SzD6z"
      },
      "execution_count": null,
      "outputs": []
    },
    {
      "cell_type": "markdown",
      "source": [
        "<a name=\"bool\"></a>\n",
        "#### `bool`\n",
        "In addition to mathematical calculations, logical operations are essential for making decisions in programming. For this purpose, we use the `bool` data type in Python, which comprises only two values: `True` and `False`. `bool` is the abbreviation for [Boolean](https://en.wikipedia.org/wiki/Boolean_data_type) in Python. A `bool` variable can be created by assigning either `True` or `False` to it:"
      ],
      "metadata": {
        "id": "IjzoATFVNDJG"
      }
    },
    {
      "cell_type": "code",
      "source": [
        "flag = True\n",
        "type(flag)"
      ],
      "metadata": {
        "id": "zr_8x_L3OSju"
      },
      "execution_count": null,
      "outputs": []
    },
    {
      "cell_type": "markdown",
      "source": [
        "<a name=\"str\"></a>\n",
        "#### `str`\n",
        "\n",
        "Occasionally, we need to store characters or sequences of characters, such as DNA sequences; in these instances, the variable should be of the `str` data type. `str` stands for \"string\" in Python, which is used to represent textual data. To create a `str` variable, text can be enclosed within single (`'`), double (`\"`), or triple quotes (`'''` or `\"\"\"`):"
      ],
      "metadata": {
        "id": "b1etHXANt6PU"
      }
    },
    {
      "cell_type": "code",
      "source": [
        "dna_sequence = 'ATCG'\n",
        "type(dna_sequence)"
      ],
      "metadata": {
        "id": "C0pCUHhKu1IL"
      },
      "execution_count": null,
      "outputs": []
    },
    {
      "cell_type": "markdown",
      "source": [
        "When a number is enclosed in quotes, the variable is treated as a `str` data type, regardless of its numeric value:"
      ],
      "metadata": {
        "id": "Bd9OCuxQRbRn"
      }
    },
    {
      "cell_type": "code",
      "source": [
        "x = \"1\"\n",
        "type(x)"
      ],
      "metadata": {
        "id": "5bzljrZLRhkv"
      },
      "execution_count": null,
      "outputs": []
    },
    {
      "cell_type": "markdown",
      "source": [
        "We can join two `str` variables by using the addition symbol `+`:"
      ],
      "metadata": {
        "id": "qkMOQTscVxjg"
      }
    },
    {
      "cell_type": "code",
      "source": [
        "dna_sequence1 = 'ATCG'\n",
        "dna_sequence2 = 'GCTA'\n",
        "dna_sequence = dna_sequence1 + dna_sequence2\n",
        "print(dna_sequence)"
      ],
      "metadata": {
        "id": "tqHFJOE5WAno"
      },
      "execution_count": null,
      "outputs": []
    },
    {
      "cell_type": "markdown",
      "source": [
        "Each character in a `str` variable can be accessed by using its index in square brackets, where the index starts from `0`. For example, we can obtain the first character in `dna_sequence`:"
      ],
      "metadata": {
        "id": "vzNdvTE3vAnT"
      }
    },
    {
      "cell_type": "code",
      "source": [
        "print(dna_sequence[0])"
      ],
      "metadata": {
        "id": "LXJnz7w8vG8T"
      },
      "execution_count": null,
      "outputs": []
    },
    {
      "cell_type": "markdown",
      "source": [
        "However, we cannot modify the items in a `str` variable:"
      ],
      "metadata": {
        "id": "Orb9v8nOopnj"
      }
    },
    {
      "cell_type": "code",
      "source": [
        "# This code does not work, because the value of a `str` variable is immutable.\n",
        "dna_sequence[0] = 'C'"
      ],
      "metadata": {
        "id": "4cZxYErMosqR"
      },
      "execution_count": null,
      "outputs": []
    },
    {
      "cell_type": "markdown",
      "source": [
        "<a name=\"li\"></a>\n",
        "#### `list`"
      ],
      "metadata": {
        "id": "VhWHHoO7QZDH"
      }
    },
    {
      "cell_type": "markdown",
      "source": [
        "When dealing with a large volume of data, such as thousands of genome sequences, it is impractical to create thousands of variables for each genome. In such scenarios, the `list` data type becomes invaluable as it enables the storage of multiple items within a single variable. To create a `list`, we can enclose our items within square brackets `[]`:"
      ],
      "metadata": {
        "id": "X7D51ZrZfoGw"
      }
    },
    {
      "cell_type": "code",
      "source": [
        "dna_sequences = ['ATCG', 'GCTA', 'AAAAA', 'TTT', 'CCCCGGG']\n",
        "print(dna_sequences)"
      ],
      "metadata": {
        "id": "zUUrAZ_agWKq"
      },
      "execution_count": null,
      "outputs": []
    },
    {
      "cell_type": "markdown",
      "source": [
        "To add an item into a list, we can use the `append()` method:"
      ],
      "metadata": {
        "id": "7C4GobmiiCTa"
      }
    },
    {
      "cell_type": "code",
      "source": [
        "dna_sequences.append('GGG')\n",
        "print(dna_sequences)"
      ],
      "metadata": {
        "id": "EdZfRkfSiTxp"
      },
      "execution_count": null,
      "outputs": []
    },
    {
      "cell_type": "markdown",
      "source": [
        "We can also add a list into a list:"
      ],
      "metadata": {
        "id": "2bFduiamig4x"
      }
    },
    {
      "cell_type": "code",
      "source": [
        "dna_sequences.append(['A', 'T', 'C', 'G'])\n",
        "print(dna_sequences)"
      ],
      "metadata": {
        "id": "SgAUyK13ik_5"
      },
      "execution_count": null,
      "outputs": []
    },
    {
      "cell_type": "markdown",
      "source": [
        "If we want to avoid creating a nested list, we can ultilize the `extend()` method:"
      ],
      "metadata": {
        "id": "RA_fsgNDitzR"
      }
    },
    {
      "cell_type": "code",
      "source": [
        "dna_sequences.extend(['A', 'T', 'C', 'G'])\n",
        "print(dna_sequences)"
      ],
      "metadata": {
        "id": "dK2suME1i4eD"
      },
      "execution_count": null,
      "outputs": []
    },
    {
      "cell_type": "markdown",
      "source": [
        "To access an item in a list, we can use its index in square brackets. For example, we can get the first item in `dna_sequences`:"
      ],
      "metadata": {
        "id": "XAWZ0XLRhWUJ"
      }
    },
    {
      "cell_type": "code",
      "source": [
        "print(dna_sequences[0])"
      ],
      "metadata": {
        "id": "qst85tUYhkby"
      },
      "execution_count": null,
      "outputs": []
    },
    {
      "cell_type": "markdown",
      "source": [
        "We can also modify an item in a list through its index. For instance, we can change the last item in `dna_sequences`:"
      ],
      "metadata": {
        "id": "LNBcSvFzjo8i"
      }
    },
    {
      "cell_type": "code",
      "source": [
        "dna_sequences[len(dna_sequences)-1] = 'ACG'\n",
        "print(dna_sequences)\n",
        "dna_sequences[-1] = 'GTA'\n",
        "print(dna_sequences)"
      ],
      "metadata": {
        "id": "o-K5EL4ij16S"
      },
      "execution_count": null,
      "outputs": []
    },
    {
      "cell_type": "markdown",
      "source": [
        "The `len()` function returns the number of items in a list. Since list indexing starts from `0`, the index of the last item is `len(list)-1`. Additionally, Python supports negative indexing to access elements from the end, allowing us to use the index `-1` to directly access the last item.\n",
        "\n",
        "Additionally, we can obtain a part of the list using slicing. For example, we can take the firs three elements in the `dna_sequences` list:"
      ],
      "metadata": {
        "id": "CDRC8RxqkXay"
      }
    },
    {
      "cell_type": "code",
      "source": [
        "dna_sequences[0:3]"
      ],
      "metadata": {
        "id": "sQ9OnXc8ajCa"
      },
      "execution_count": null,
      "outputs": []
    },
    {
      "cell_type": "markdown",
      "source": [
        "The slice is specified by indicating a `start` index, an `end` index, and an optional `step` size within square brackets (`[]`) after the list variable. The basic form of slicing syntax is `list[start:stop:step]`.\n",
        "\n",
        "- The `start` index is inclusive, meaning the slice will include the element at this index. If `start` is omitted, the slice starts from the beginning of the list.\n",
        "- The `stop` index is exclusive, meaning the slice will stop before the element at this index. If `stop` is omitted, the slice goes through to the end of the list.\n",
        "- The `step` size indicates the increment between indices in the slice. If `step` is omitted, it defaults to 1, so every element between `start` and `stop` is included in the slice.\n",
        "\n",
        "Here are examples:"
      ],
      "metadata": {
        "id": "5tlRnQ1eanq5"
      }
    },
    {
      "cell_type": "code",
      "source": [
        "# Get elements from index 2 to 5\n",
        "print(dna_sequences[2:6])\n",
        "\n",
        "# Get elements from the beginning to index 3\n",
        "print(dna_sequences[:4])\n",
        "\n",
        "# Get elements from index 5 to the end\n",
        "print(dna_sequences[5:])\n",
        "\n",
        "# Get every other element from the list\n",
        "print(dna_sequences[::2])\n",
        "\n",
        "# Reverse the list\n",
        "print(dna_sequences[::-1])"
      ],
      "metadata": {
        "id": "H8edN1Jjcbdu"
      },
      "execution_count": null,
      "outputs": []
    },
    {
      "cell_type": "markdown",
      "source": [
        "Similarly, `str` variables can use the same slicing technique as lists. This allows us to extract substrings from a string using a similar syntax: `string[start:stop:step]`."
      ],
      "metadata": {
        "id": "piqTVkFddk6k"
      }
    },
    {
      "cell_type": "markdown",
      "source": [
        "<a name=\"dict\"></a>\n",
        "#### `dict`"
      ],
      "metadata": {
        "id": "ML00L3VQQaxh"
      }
    },
    {
      "cell_type": "markdown",
      "source": [
        "Although lists are effective for collections of data, there are instances where accessing items using a non-numeric index (called \"key\") may be more convenient. In such situations, the `dict` (short for \"dictionary\") data type becomes particularly useful. To create a dictionary, we can use curly braces:"
      ],
      "metadata": {
        "id": "_jKU-AaTpQ8i"
      }
    },
    {
      "cell_type": "code",
      "source": [
        "dna_sequences = {\n",
        "    'Human': 'ATCG',\n",
        "    'E.coli': 'GCTA',\n",
        "    'Drosophila': 'AAAAA',\n",
        "}\n",
        "print(dna_sequences)"
      ],
      "metadata": {
        "id": "fB3Z3_yaqeMz"
      },
      "execution_count": null,
      "outputs": []
    },
    {
      "cell_type": "markdown",
      "source": [
        "We can obtain the `Human` sequence:"
      ],
      "metadata": {
        "id": "9AyBU9Y3qwMK"
      }
    },
    {
      "cell_type": "code",
      "source": [
        "print(dna_sequences['Human'])"
      ],
      "metadata": {
        "id": "T6CRN_Wyq1Ey"
      },
      "execution_count": null,
      "outputs": []
    },
    {
      "cell_type": "markdown",
      "source": [
        "We can add a new item into a dictionary by specifying a key-value pair:"
      ],
      "metadata": {
        "id": "vWvbDSrJq8BK"
      }
    },
    {
      "cell_type": "code",
      "source": [
        "dna_sequences['Arabidopsis'] = 'TTT'\n",
        "print(dna_sequences)"
      ],
      "metadata": {
        "id": "G9z6gv_orzG7"
      },
      "execution_count": null,
      "outputs": []
    },
    {
      "cell_type": "markdown",
      "source": [
        "Here, `'Arabidopsis'` is the key and `TTT` is the corresponding value."
      ],
      "metadata": {
        "id": "-5XD2yhgqS5g"
      }
    },
    {
      "cell_type": "markdown",
      "source": [
        "<a name=\"commonly-used-statements\"></a>\n",
        "### Commonly Used Statements"
      ],
      "metadata": {
        "id": "STiegYxRTXRI"
      }
    },
    {
      "cell_type": "markdown",
      "source": [
        "To effectively use variables and built-in data types, we need some statements to help us to control the workflow in our programs, such as making decisions or looping over data."
      ],
      "metadata": {
        "id": "J6gulmJabW00"
      }
    },
    {
      "cell_type": "markdown",
      "source": [
        "<a name=\"if\"></a>\n",
        "#### `if`\n",
        "\n",
        "The `if` statement is commonly used for decision-making; that is, if a condition is met, an operation will be executed. For instance, we can print a sequence from a species stored in the `dna_sequences` variable, provided the sequence of the specified species exists:"
      ],
      "metadata": {
        "id": "8NX4gkTqTb2I"
      }
    },
    {
      "cell_type": "code",
      "source": [
        "species = 'Human'\n",
        "if species in dna_sequences.keys():\n",
        "    print('The sequence from ' + species + ': ' + dna_sequences[species])\n",
        "print(\"The if block has ended.\")"
      ],
      "metadata": {
        "id": "K0zItQbGaX9O"
      },
      "execution_count": null,
      "outputs": []
    },
    {
      "cell_type": "markdown",
      "source": [
        "The `if` statement begins with the keyword `if`, followed by the condition we wish to evaluate. A colon (`:`) follows the condition, signaling the start of the `if` block. The subsequent code block must be indented to indicate that it belongs to the `if` statement.\n",
        "\n",
        "In Python, control structures such as `if` statements, `for` and `while` loops, along with function definitions that begin with the keyword `def`, utilize a colon (`:`) to indicate the start of a code block. This code block must be indented to distinguish it as part of the control structure. Python uses indentation to define blocks of code, meaning that all lines of code within the same block must have the same level of indentation. The end of a code block is marked by returning to the previous level of indentation. This principle of indentation is a fundamental aspect of Python syntax, ensuring code readability and structural clarity.\n",
        "\n",
        "The `keys()` method returns the keys of a dictionary (as in `dna_sequences` in this case), and the `in` keyword checks whether the value of a variable (`species` in this case) is among the keys of the dictionary:"
      ],
      "metadata": {
        "id": "dqqSHEOOpFGb"
      }
    },
    {
      "cell_type": "code",
      "source": [
        "print(dna_sequences.keys())\n",
        "print(species in dna_sequences.keys())"
      ],
      "metadata": {
        "id": "tG3Og4oZrJO5"
      },
      "execution_count": null,
      "outputs": []
    },
    {
      "cell_type": "markdown",
      "source": [
        "The `if` statement evaluates the condition following the keyword `if`. If the condition (e.g., `species in dna_sequences.keys()`) evaluates to `True`, the code within the `if` block is executed (e.g., `print('The sequence from ' + species + ': ' + dna_sequences[species])`). If the condition is `False`, the `if` block is skipped.\n",
        "\n",
        "We can follow the `if` statement with an `else` statement to execute operations when the `if` condition is `False`:"
      ],
      "metadata": {
        "id": "FcZFFuQzsIEU"
      }
    },
    {
      "cell_type": "code",
      "source": [
        "species = 'Oryza sativa'\n",
        "if species in dna_sequences.keys():\n",
        "    print('The sequence from ' + species + ': ' + dna_sequences[species])\n",
        "else:\n",
        "    print('We do not have the sequence from ' + species)\n",
        "print(species in dna_sequences.keys())"
      ],
      "metadata": {
        "id": "oIP7ZDLrogPQ"
      },
      "execution_count": null,
      "outputs": []
    },
    {
      "cell_type": "markdown",
      "source": [
        "If we have multiple conditions, we can follow the `if` statement with an `elif` (short for \"else if\") statement to specify additional conditions. The `elif` statement can be used multiple times to create a chain of conditions, allowing for complex decision-making paths in the code. Each `elif` is checked in sequence after the initial `if`. If none of the conditions in the `if` or `elif` statements are met, we can also add an `else` statement at the end. The `else` block will execute if all preceding conditions are `False`, providing a default action when no specific conditions apply.\n",
        "\n",
        "For example, we can add the sequence of a species that does not exist in the `dna_sequences` variable to the same variable:"
      ],
      "metadata": {
        "id": "7zu_1aMssoFp"
      }
    },
    {
      "cell_type": "code",
      "source": [
        "sequences = {\n",
        "    'Oryza sativa': 'GGG',\n",
        "}\n",
        "\n",
        "species = 'Oryza sativa'\n",
        "if species in dna_sequences.keys():\n",
        "    print('The sequence from ' + species + ': ' + dna_sequences[species])\n",
        "elif sequences[species] != '':\n",
        "    dna_sequences[species] = sequences[species]\n",
        "    print('Added a new sequence!')\n",
        "    print('The sequence from ' + species + ': ' + dna_sequences[species])\n",
        "else:\n",
        "    print('We do not have the sequence from ' + species)"
      ],
      "metadata": {
        "id": "k998qTD8cYjP"
      },
      "execution_count": null,
      "outputs": []
    },
    {
      "cell_type": "markdown",
      "source": [
        "This structure is highly flexible and can accommodate as many `elif` statements as necessary to cover the different scenarios your program might encounter.\n",
        "\n",
        "Here, `''` represents an empty string, which is a string that contains no characters. The `!=` operator checks whether the values on either side of it are unequal. If the values are not the same, the expression evaluates to `True`; if they are the same, it evaluates to `False`. Hence, `sequences[species] != ''` checks if the value associated with the key `species` in the `sequences` dictionary is not an empty string. Conversely, the `==` operator verifies whether the values on either side of it are equal. If the values are the same, the expression evaluates to `True`; if they are not the same, it evaluates to `False`."
      ],
      "metadata": {
        "id": "VuwuqvLBuWyM"
      }
    },
    {
      "cell_type": "code",
      "source": [
        "sequences['C.elegans'] = ''\n",
        "\n",
        "species = 'C.elegans'\n",
        "if species in dna_sequences.keys():\n",
        "    print('The sequence from ' + species + ': ' + dna_sequences[species])\n",
        "elif sequences[species] != '':\n",
        "    dna_sequences[species] = sequences[species]\n",
        "    print('Added a new sequence!')\n",
        "    print('The sequence from ' + species + ': ' + dna_sequences[species])\n",
        "else:\n",
        "    print('We do not have the sequence from ' + species)"
      ],
      "metadata": {
        "id": "yg63bXlbv9iB"
      },
      "execution_count": null,
      "outputs": []
    },
    {
      "cell_type": "markdown",
      "source": [
        "<a name=\"for\"></a>\n",
        "#### `for`\n",
        "\n",
        "The `for` statement is used for iterating over sequences, such as lists and dictionaries, allowing us to execute a block of code for each item. This makes it a powerful tool for looping through data structures to perform operations on each element.\n",
        "\n",
        "For example, we can use the `for` statement to iterate over the `dna_sequences` dictionary, printing out each key (species here) and its corresponding value (sequences in this case):"
      ],
      "metadata": {
        "id": "fWcDzIX-ThUI"
      }
    },
    {
      "cell_type": "code",
      "source": [
        "print('The species that we have sequences are:')\n",
        "for k in dna_sequences:\n",
        "    print('- ' + k + ': ' + dna_sequences[k])\n",
        "print(\"The for loop has ended.\")"
      ],
      "metadata": {
        "id": "E_h4mWTXgHfA"
      },
      "execution_count": null,
      "outputs": []
    },
    {
      "cell_type": "markdown",
      "source": [
        "The `for` statement begins with the keyword `for`, followed by a variable name (e.g., `k`), which is then followed by the keyword `in`. After `in`, we specify the iterable variable (e.g., `dna_sequences`) that we want to iterate over.  Within the loop, we can access each item in `dna_sequences` using the variable `k`."
      ],
      "metadata": {
        "id": "2KR0ywGzQ7Jp"
      }
    },
    {
      "cell_type": "markdown",
      "source": [
        "<a name=\"while\"></a>\n",
        "#### `while`\n",
        "\n",
        "The `while` statement is used for executing a block of code repeatedly as long as a given condition is met. It enables the creation of loops that continue to run until the condition becomes `False`. This is particularly useful for scenarios where the number of iterations needed is not known before the loop starts.\n",
        "\n",
        "For example, we can also use the `while` statement to loop through the `dna_sequences` dictionary and print out each key-value pair:\n",
        "\n"
      ],
      "metadata": {
        "id": "lsaWxZeRTmyA"
      }
    },
    {
      "cell_type": "code",
      "source": [
        "print('The species that we have sequences are:')\n",
        "sum = 0\n",
        "while sum < len(dna_sequences):\n",
        "    k = list(dna_sequences)[sum]\n",
        "    print('- ' + k + ': ' + dna_sequences[k])\n",
        "    sum += 1\n",
        "print(\"The while loop has ended.\")"
      ],
      "metadata": {
        "id": "Y5IXnYEdmAQP"
      },
      "execution_count": null,
      "outputs": []
    },
    {
      "cell_type": "markdown",
      "source": [
        "Here, we use the `sum ` to track the number of key-value pairs we have encountered. If `sum` is smaller than the total number of items in the `dna_sequences` dictionary, then we can continue iterating through the dictionary to process and count the remaining key-value pairs until `sum` is not smaller (that is, `>=`) the total number of items in the dictionary.\n",
        "\n",
        "The statement `sum += 1` means that the current value of the `sum` variable is increased by 1. This is a shorthand for `sum = sum + 1`, which takes the current value of sum, adds 1 to it, and then updates `sum` with the new value. It is commonly used in loops and iterative processes as a counter to keep track of the number of iterations or to accumulate a total incrementally."
      ],
      "metadata": {
        "id": "bA5trcrW0xZy"
      }
    },
    {
      "cell_type": "markdown",
      "source": [
        "<a name=\"def\"></a>\n",
        "#### Define a Function"
      ],
      "metadata": {
        "id": "Tba0A81ZW14Y"
      }
    },
    {
      "cell_type": "markdown",
      "source": [
        "From the examples provided, we observe that certain code segments are used repeatedly:\n",
        "```\n",
        "if species in dna_sequences.keys():\n",
        "    print('The sequence from ' + species + ': ' + dna_sequences[species])\n",
        "elif sequences[species] is not None:\n",
        "    dna_sequences[species] = sequences[species]\n",
        "    print('Added a new sequence!')\n",
        "    print('The sequence from ' + species + ': ' + dna_sequences[species])\n",
        "else:\n",
        "    print('We do not have the sequence from ' + species)\n",
        "\n",
        "```\n",
        "To make our code more reusable and organized, we can encapsulate this logic within a function. This approach allows us to decompose complex problems into smaller, manageable components and structure our code into logical sections. It simplifies navigating and understanding the flow of the program, making it easier to maintain and extend. Here is the example:"
      ],
      "metadata": {
        "id": "4OBPcJCdnDr0"
      }
    },
    {
      "cell_type": "code",
      "source": [
        "def check_sequences(dictionary: dict, species: str,\n",
        "                    sequences: dict = None) -> None:\n",
        "    \"\"\"\n",
        "    Description:\n",
        "        Verifies if a specified species' sequence exists within the dictionary.\n",
        "        If the sequence is absent but provided, it is then added to the\n",
        "        dictionary.\n",
        "\n",
        "    Arguments:\n",
        "        dictionary (dict): The dictionary to check for the species' sequence.\n",
        "        species (str): The species to look for in the dictionary.\n",
        "        sequences (dict, optional): A dictionary containing the species and\n",
        "            its sequence to add to the dictionary if not already present.\n",
        "            Default: None.\n",
        "\n",
        "    Returns:\n",
        "        None.\n",
        "    \"\"\"\n",
        "    if species in dictionary.keys():\n",
        "        print('The sequence from ' + species + ': ' + dictionary[species])\n",
        "    elif (sequences is not None):\n",
        "        if (species in sequences) and (sequences[species] != ''):\n",
        "            dictionary[species] = sequences[species]\n",
        "            print('Added a new sequence!')\n",
        "            print('The sequence from ' + species + ': ' + dictionary[species])\n",
        "        else:\n",
        "            print('We do not have the sequence from ' + species)\n",
        "    else:\n",
        "        print('We do not have the sequence from ' + species)"
      ],
      "metadata": {
        "id": "nzQmPoFa2lPS"
      },
      "execution_count": null,
      "outputs": []
    },
    {
      "cell_type": "markdown",
      "source": [
        "To define a function, we start with the keyword `def`, followed by the function name (`check_sequences` in this case). We then specify the parameters of our function within the parentheses after the function name. In the `check_sequences()` function, we define three parameters:\n",
        "\n",
        "- `dictionary`\n",
        "- `species`\n",
        "- `sequences`\n",
        "\n",
        "We assign a default value of `None`, a built-in data type typically used to signify the absence of a value, to the sequences parameter. This means that if we do not specify a value for sequences when calling the `check_sequences()` function, it will automatically use `None`. Since we do not set default values for the `dictionary` and `species` parameters, they must be provided when using the `check_sequences()` function; otherwise, Python will raise a `TypeError` due to missing required positional arguments:"
      ],
      "metadata": {
        "id": "QQHa4cYopob6"
      }
    },
    {
      "cell_type": "code",
      "source": [
        "# This code does not work, because one required parameter `species` is missing.\n",
        "check_sequences(dna_sequences)"
      ],
      "metadata": {
        "id": "lPXm6hBLtvVo"
      },
      "execution_count": null,
      "outputs": []
    },
    {
      "cell_type": "code",
      "source": [
        "check_sequences(dna_sequences, 'Human')\n",
        "# Add a new squeuence\n",
        "sequences['C.elegans'] = 'TTTTT'\n",
        "check_sequences(dna_sequences, 'C.elegans', sequences)"
      ],
      "metadata": {
        "id": "-xuP_-WT3CMq"
      },
      "execution_count": null,
      "outputs": []
    },
    {
      "cell_type": "markdown",
      "source": [
        "When calling a function, it is necessary to follow the order of parameters as defined in the function. However, arguments can also be passed explicitly to their corresponding parameters by name, making the order irrelevant in this context:"
      ],
      "metadata": {
        "id": "P5tP05MbOa1I"
      }
    },
    {
      "cell_type": "code",
      "source": [
        "check_sequences(species='C.elegans', dictionary=dna_sequences)"
      ],
      "metadata": {
        "id": "n-h7YzJ4OYbB"
      },
      "execution_count": null,
      "outputs": []
    },
    {
      "cell_type": "markdown",
      "source": [
        "To enhance the readability and maintainability of our code, we can specify the expected data type of each parameter using a colon followed by the type. This practice, known as type annotation, helps developers understand what types of values should be passed to functions. We also annotate the return type of our function with `-> None`, indicating that our function does not return any value, as it primarily prints information to the screen. Although type annotations are optional in Python and do not influence the runtime behavior of our code, they play a crucial role in documenting our function clearly.\n",
        "\n",
        "Similarly, this block is called a docstring in Python, which is enclosed in triple quotes. It serves as documentation for what a function does, including details about its parameters, return values, and any other relevant information.\n",
        "\n",
        "```\n",
        "\"\"\"\n",
        "Description:\n",
        "    Verifies if a specified species' sequence exists within the dictionary.\n",
        "    If the sequence is absent but provided, it is then added to the\n",
        "    dictionary.\n",
        "\n",
        "Arguments:\n",
        "    dictionary (dict): The dictionary to check for the species' sequence.\n",
        "    species (str): The species to look for in the dictionary.\n",
        "    sequences (dict, optional): A dictionary containing the species and\n",
        "        its sequence to add to the dictionary if not already present.\n",
        "        Default: None.\n",
        "\n",
        "Returns:\n",
        "    None.\n",
        "\"\"\"\n",
        "```\n",
        "\n",
        "Note that triple quotes (either `'''` for single triple quotes or `\"\"\"` for double triple quotes) can be used to define multi-line strings, allowing us to easily span a string over several lines without using escape characters for newlines. This is particularly useful for long texts, docstrings, or when embedding formatted text directly within our code.\n",
        "\n",
        "In contrast, single (`'`) or double (`\"`) quotes are used for single-line strings. To span a string containing newline characters over multiple lines with single or double quotes, we would need to use the newline escape character (`\\n`):"
      ],
      "metadata": {
        "id": "l7-aqYaFRijo"
      }
    },
    {
      "cell_type": "code",
      "source": [
        "single_line_string = \"This is an example of a\\nsingle-line string in Python,\\nusing double quotes.\"\n",
        "print(single_line_string)"
      ],
      "metadata": {
        "id": "qlYqt30L4NbX"
      },
      "execution_count": null,
      "outputs": []
    },
    {
      "cell_type": "markdown",
      "source": [
        "<a name=\"import\"></a>\n",
        "#### Import a Package"
      ],
      "metadata": {
        "id": "8bQAlb6sW59C"
      }
    },
    {
      "cell_type": "markdown",
      "source": [
        "Python boasts an active and supportive community, which stands as one of the key reasons behind its widespread popularity. This vibrant ecosystem allows us to reuse code developed by the community, significantly speeding up the development process. For scientific computing and data visualization, three widely-used Python packages are [numpy](https://numpy.org/), [scipy](https://scipy.org/), and [matplotlib](https://matplotlib.org/). Besides, [pandas](https://pandas.pydata.org/) is a popular library for data analysis.\n",
        "\n",
        "These packages are pre-installed in Google Colab. To use them, we can use the `import` statement:"
      ],
      "metadata": {
        "id": "0qwTLJoKR_sC"
      }
    },
    {
      "cell_type": "code",
      "source": [
        "import scipy\n",
        "import numpy as np\n",
        "import pandas as pd\n",
        "import matplotlib.pyplot as plt"
      ],
      "metadata": {
        "id": "e-yYtcJP4oKL"
      },
      "execution_count": null,
      "outputs": []
    },
    {
      "cell_type": "markdown",
      "source": [
        "We can rename a package when importing it by using the keyword `as` for convenience or to avoid naming conflicts.\n",
        "\n",
        "Here, we use `numpy`, `scipy`, and `matplotlib` to plot a normal distribution:"
      ],
      "metadata": {
        "id": "KqSGblyAqsiF"
      }
    },
    {
      "cell_type": "code",
      "source": [
        "fig, ax = plt.subplots(1, 1)\n",
        "x = np.linspace(scipy.stats.norm.ppf(0.01), scipy.stats.norm.ppf(0.99), 100)\n",
        "ax.plot(x, scipy.stats.norm.pdf(x), 'r-', lw=5, alpha=0.6, label='norm pdf')\n",
        "plt.show()"
      ],
      "metadata": {
        "id": "VH1xk9jQ4t9r"
      },
      "execution_count": null,
      "outputs": []
    },
    {
      "cell_type": "markdown",
      "source": [
        "To use a method (or function) from a package in Python, the notation is `package.method()` or `package.function()`, where `package` is the name of the package (or module) and `method()` or `function()` is the name of the method or function you want to use. If you have imported the package with an alias, you would use that alias instead of the original package name. For example, if you `imported numpy as np`, you would use `np.linspace()` to create an array of linearly spaced numbers between a specified start value and stop value.\n",
        "\n",
        "Because we do not assign an alias to `scipy` upon importing, we must explicitly specify the full method name as `scipy.stats.norm.ppf()` to use it."
      ],
      "metadata": {
        "id": "ZGWKogdwsnIU"
      }
    },
    {
      "cell_type": "markdown",
      "source": [
        "<a name=\"io\"></a>\n",
        "### File Input and Output"
      ],
      "metadata": {
        "id": "tiju3lZBjIzr"
      }
    },
    {
      "cell_type": "markdown",
      "source": [
        "Usually, we need to read and write our data from files. To output our `dna_sequences` dictionary into a file named `dna_sequences.txt`, we can use the following statement:"
      ],
      "metadata": {
        "id": "ZZw0JL0AuWvT"
      }
    },
    {
      "cell_type": "code",
      "source": [
        "with open('dna_sequences.txt', 'w') as f:\n",
        "    for k in dna_sequences:\n",
        "        f.write('- ' + k + ': ' + dna_sequences[k] + '\\n')"
      ],
      "metadata": {
        "id": "iUghiMpBuYQV"
      },
      "execution_count": null,
      "outputs": []
    },
    {
      "cell_type": "markdown",
      "source": [
        "The statement begins with the keyword `with`, followed by the `open()` function. Within `open()`, we specify two arguments: the first is the name of the file we want to open (e.g., `dna_sequences.txt`), and the second is the mode, here `w` for writing. We assign an alias `f` to this opened file. This makes it possible to access and work with the file using the variable `f`. For instance, to write items from the `dna_sequences` dictionary to the file, we can iterate over the dictionary and use `f.write()` to add each item to the file.\n",
        "\n",
        "To read data from the `dna_sequences.txt` file, we can change the mode from `w` (write) to `r` (read) in the `open()` function. Then, we can use a for loop to iterate through each line in the file:"
      ],
      "metadata": {
        "id": "geXdjfCUPqvh"
      }
    },
    {
      "cell_type": "code",
      "source": [
        "with open('dna_sequences.txt', 'r') as f:\n",
        "    for line in f:\n",
        "        print(line.strip())"
      ],
      "metadata": {
        "id": "VJqKY7n-uqBU"
      },
      "execution_count": null,
      "outputs": []
    },
    {
      "cell_type": "markdown",
      "source": [
        "The `.strip()` method is used on each line to remove the newline character (`\\n`) at the end of each line, which is included when reading lines this way. This is optional and depends on how you need to process each line."
      ],
      "metadata": {
        "id": "H-Lfbk_9S02i"
      }
    },
    {
      "cell_type": "code",
      "source": [
        "# Without the .strip() method, an extra blank line is printed between two lines.\n",
        "with open('dna_sequences.txt', 'r') as f:\n",
        "    for line in f:\n",
        "        print(line)"
      ],
      "metadata": {
        "id": "007NTnLZS8o1"
      },
      "execution_count": null,
      "outputs": []
    },
    {
      "cell_type": "markdown",
      "source": [
        "<a name=\"task2\"></a>\n",
        "### Task 2: Comprehensive Application\n",
        "\n",
        "[The central dogma of molecular biology](https://www.genome.gov/genetics-glossary/Central-Dogma) describes the flow of genetic information from DNA to RNA, and then from RNA to protein. Based on this principle, we can translate DNA sequences into protein sequences.\n",
        "\n",
        "In this task, we will focus on the DNA sequence of the [G6PD](https://www.ncbi.nlm.nih.gov/gene/2539) protein. G6PD is of particular interest as it may be under [natural selection](https://www.nature.com/articles/376246a0) in Africans due to resistance to severe malaria. We can download its DNA sequence using the following command:"
      ],
      "metadata": {
        "id": "y8k6b1y6lfrO"
      }
    },
    {
      "cell_type": "code",
      "source": [
        "!wget -c https://raw.githubusercontent.com/xin-huang/pgml/main/Section_01/G6PD.dna.sequence.txt"
      ],
      "metadata": {
        "id": "k1_4PhJ0ATXW"
      },
      "execution_count": null,
      "outputs": []
    },
    {
      "cell_type": "markdown",
      "source": [
        "We can take a look at its DNA sequence:"
      ],
      "metadata": {
        "id": "PQsWf1LiJYOs"
      }
    },
    {
      "cell_type": "code",
      "source": [
        "!cat G6PD.dna.sequence.txt"
      ],
      "metadata": {
        "id": "Ph6cBLjrJY1M"
      },
      "execution_count": null,
      "outputs": []
    },
    {
      "cell_type": "markdown",
      "source": [
        "Using what we have learned, please implement a Python program to translate the DNA sequence in the `G6PD.dna.sequence.txt` file into the corresponding protein sequence using the standard DNA or RNA codon table from [here](https://en.wikipedia.org/wiki/DNA_and_RNA_codon_tables). Denote stop codons with the `*` symbol. Store your result in a variable called `g6pd_protein` and a file named `G6PD.protein.sequence.txt`. For reference, you can find the DNA and protein sequences [here](https://www.ncbi.nlm.nih.gov/CCDS/CcdsBrowse.cgi?REQUEST=GENEID&DATA=2539)."
      ],
      "metadata": {
        "id": "Regaz-o1ATyG"
      }
    },
    {
      "cell_type": "code",
      "source": [
        "# Please implement your code here.\n",
        "g6pd_protein = ''"
      ],
      "metadata": {
        "id": "lbNKwVgdZmV4"
      },
      "execution_count": null,
      "outputs": []
    },
    {
      "cell_type": "markdown",
      "source": [
        "You can check you result by executing the following code cells."
      ],
      "metadata": {
        "id": "i3CTX_TGCtCT"
      }
    },
    {
      "cell_type": "code",
      "source": [
        "g6pd_protein == 'MAEQVALSRTQVCGILREELFQGDAFHQSDTHIFIIMGASGDLAKKKIYPTIWWLFRDGLLPENTFIVGYARSRLTVADIRKQSEPFFKATPEEKLKLEDFFARNSYVAGQYDDAASYQRLNSHMNALHLGSQANRLFYLALPPTVYEAVTKNIHESCMSQIGWNRIIVEKPFGRDLQSSDRLSNHISSLFREDQIYRIDHYLGKEMVQNLMVLRFANRIFGPIWNRDNIACVILTFKEPFGTEGRGGYFDEFGIIRDVMQNHLLQMLCLVAMEKPASTNSDDVRDEKVKVLKCISEVQANNVVLGQYVGNPDGEGEATKGYLDDPTVPRGSTTATFAAVVLYVENERWDGVPFILRCGKALNERKAEVRLQFHDVAGDIFHQQCKRNELVIRVQPNEAVYTKMMTKKPGMFFNPEESELDLTYGNRYKNVKLPDAYERLILDVFCGSQMHFVRSDELREAWRIFTPLLHQIELEKPKPIPYIYGSRGPTEADELMKRVGFQYEGTYKWVNPHKL*'\n"
      ],
      "metadata": {
        "id": "6IAsyw4bBeh_"
      },
      "execution_count": null,
      "outputs": []
    },
    {
      "cell_type": "code",
      "source": [
        "!cat G6PD.protein.sequence.txt"
      ],
      "metadata": {
        "id": "qCUCItX6A9Fn"
      },
      "execution_count": null,
      "outputs": []
    },
    {
      "cell_type": "markdown",
      "source": [
        "<details>\n",
        "  <summary>\n",
        "    <font size=\"3\" color=\"darkgreen\">\n",
        "      <b>Click for hints</b>\n",
        "    </font>\n",
        "  </summary>\n",
        "\n",
        "  1. **Create a Codon Table Dictionary:** Given that three nucleotides encode a single amino acid, it is straightforward to map these nucleotide triplets (codons) to their corresponding amino acids. A [dictionary](#dict) is an ideal structure for this codon table, using the triplet sequences as keys and their respective amino acids as values.\n",
        "\n",
        "  2. **Read the DNA Sequence from a File:** Utilize the `open()` function with [read mode](#io) to read the DNA sequence from `G6PD.dna.sequence.txt`. Employ a [`for` loop](#for) to process the file line by line, storing the sequence in a variable (e.g., `g6pd_dna`). Ensure you use the `strip()` method to eliminate any trailing newline characters from each line.\n",
        "\n",
        "  3. **Convert the DNA Sequence to a Protein Sequence:** Implement a [`while` loop](#while) to iterate through the DNA sequence stored in your variable. Extract sets of three characters (codons) at a time, and use the codon table dictionary to translate these codons into their corresponding amino acids. Accumulate these amino acids to form the protein sequence, storing it in a variable (e.g., `g6pd_protein`).\n",
        "\n",
        "  4. **Write the Protein Sequence to a File:** Use the `open()` function with [write mode](#io) to output the protein sequence into a file named `G6PD.protein.sequence.txt`.\n",
        "  - <details>\n",
        "      <summary>\n",
        "        <font size=\"3\" color=\"darkblue\">\n",
        "          <b>Click for solutions</b>\n",
        "        </font>\n",
        "      </summary>\n",
        "\n",
        "      ```\n",
        "      codon_table = {\n",
        "          'TTT': 'F', 'TTC': 'F', 'TTA': 'L', 'TTG': 'L',\n",
        "          'CTT': 'L', 'CTC': 'L', 'CTA': 'L', 'CTG': 'L',\n",
        "          'ATT': 'I', 'ATC': 'I', 'ATA': 'I', 'ATG': 'M',\n",
        "          'GTT': 'V', 'GTC': 'V', 'GTA': 'V', 'GTG': 'V',\n",
        "          'TCT': 'S', 'TCC': 'S', 'TCA': 'S', 'TCG': 'S',\n",
        "          'CCT': 'P', 'CCC': 'P', 'CCA': 'P', 'CCG': 'P',\n",
        "          'ACT': 'T', 'ACC': 'T', 'ACA': 'T', 'ACG': 'T',\n",
        "          'GCT': 'A', 'GCC': 'A', 'GCA': 'A', 'GCG': 'A',\n",
        "          'TAT': 'Y', 'TAC': 'Y', 'TAA': '*', 'TAG': '*',\n",
        "          'CAT': 'H', 'CAC': 'H', 'CAA': 'Q', 'CAG': 'Q',\n",
        "          'AAT': 'N', 'AAC': 'N', 'AAA': 'K', 'AAG': 'K',\n",
        "          'GAT': 'D', 'GAC': 'D', 'GAA': 'E', 'GAG': 'E',\n",
        "          'TGT': 'C', 'TGC': 'C', 'TGA': '*', 'TGG': 'W',\n",
        "          'CGT': 'R', 'CGC': 'R', 'CGA': 'R', 'CGG': 'R',\n",
        "          'AGT': 'S', 'AGC': 'S', 'AGA': 'R', 'AGG': 'R',\n",
        "          'GGT': 'G', 'GGC': 'G', 'GGA': 'G', 'GGG': 'G',\n",
        "      }\n",
        "\n",
        "      g6pd_ccds = ''\n",
        "\n",
        "      with open('G6PD.dna.sequence.txt', 'r') as f:\n",
        "          for line in f:\n",
        "              g6pd_ccds += line.strip()\n",
        "\n",
        "      g6pd_protein = ''\n",
        "\n",
        "      i = 0\n",
        "      while i < len(g6pd_ccds):\n",
        "          codon = g6pd_ccds[i:i+3]\n",
        "          g6pd_protein += codon_table[codon]\n",
        "          i += 3\n",
        "\n",
        "      with open('G6PD.protein.sequence.txt', 'w') as f:\n",
        "          f.write(g6pd_protein + '\\n')\n",
        "      ```\n",
        "  </details>\n",
        "</details>"
      ],
      "metadata": {
        "id": "ByfK5Qyn3xrX"
      }
    },
    {
      "cell_type": "markdown",
      "source": [
        "<a name=\"summary\"></a>\n",
        "## Summary\n",
        "\n",
        "In this section, we covered:\n",
        "\n",
        "1. The structure and content of our course, including an overview of the curriculum and the instructional approach.\n",
        "2. The fundamental concepts of **Python programming**, encompassing variables, built-in data types, conditional statements (`if` statements), iterative statements (`for` and `while` loops), function definition and package importation, and file I/O operations for reading and writing data."
      ],
      "metadata": {
        "id": "IKWLjUa5jdH3"
      }
    }
  ]
}